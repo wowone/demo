{
 "cells": [
  {
   "cell_type": "code",
   "execution_count": 1,
   "metadata": {},
   "outputs": [],
   "source": [
    "vowels = 'аеёиоуыэюя'\n",
    "consonants = 'бвгджзйклмнпрстфхцчшщъь'\n",
    "alphabet = vowels + consonants"
   ]
  },
  {
   "cell_type": "code",
   "execution_count": 10,
   "metadata": {},
   "outputs": [],
   "source": [
    "import copy\n",
    "import numpy as np\n",
    "import pandas as pd\n",
    "import re\n",
    "import random\n",
    "from collections import defaultdict"
   ]
  },
  {
   "cell_type": "code",
   "execution_count": 80,
   "metadata": {},
   "outputs": [],
   "source": [
    "def split_syllables(word):\n",
    "    syllables = []\n",
    "    cur_syl_tpl = {\n",
    "        'syl': [],\n",
    "        'has_vowel': False\n",
    "    }\n",
    "    cur_syl = copy.deepcopy(cur_syl_tpl)\n",
    "    for i, letter in enumerate(word):\n",
    "        if cur_syl['has_vowel'] is False:\n",
    "            cur_syl['syl'].append(letter)\n",
    "        elif letter in consonants\\\n",
    "             and (((i < len(word) - 1) and word[i + 1] in consonants) or (i == len(word) - 1)):\n",
    "            cur_syl['syl'].append(letter)\n",
    "        elif letter in ['ь', 'ъ']:\n",
    "            cur_syl['syl'].append(letter)\n",
    "        elif letter == \"'\":\n",
    "            cur_syl['syl'].append(letter)\n",
    "        else:\n",
    "            syllables.append(''.join(cur_syl['syl']))\n",
    "            cur_syl = copy.deepcopy(cur_syl_tpl)\n",
    "            cur_syl['syl'].append(letter)\n",
    "            \n",
    "        if letter in vowels:\n",
    "            cur_syl['has_vowel'] = True\n",
    "    syllables.append(''.join(cur_syl['syl']))\n",
    "    return syllables"
   ]
  },
  {
   "cell_type": "code",
   "execution_count": 84,
   "metadata": {},
   "outputs": [],
   "source": [
    "assert '-'.join(split_syllables('вова')) == 'во-ва'\n",
    "assert '-'.join(split_syllables('футбол')) == 'фут-бол'\n",
    "assert '-'.join(split_syllables('стол')) == 'стол'\n",
    "assert '-'.join(split_syllables('борщ')) == 'борщ'\n",
    "assert '-'.join(split_syllables('эхо')) == 'э-хо'\n",
    "assert '-'.join(split_syllables('баян')) == 'ба-ян'\n",
    "assert '-'.join(split_syllables('транспорт')) == 'транс-порт'\n",
    "assert '-'.join(split_syllables('упорядочить')) == 'у-по-ря-до-чить'\n",
    "assert '-'.join(split_syllables('абракадабра')) == 'аб-ра-ка-даб-ра'\n",
    "assert '-'.join(split_syllables('презумпция')) == 'пре-зумп-ци-я'\n",
    "assert '-'.join(split_syllables('бельэтаж')) == 'бель-э-таж'\n",
    "assert '-'.join(split_syllables('племянник')) == 'пле-мян-ник'\n",
    "assert '-'.join(split_syllables('подкаблучник')) == 'под-каб-луч-ник'\n",
    "assert '-'.join(split_syllables('праздник')) == 'празд-ник'\n",
    "assert '-'.join(split_syllables('пресмыкающееся')) == 'прес-мы-ка-ю-ще-е-ся'\n",
    "assert '-'.join(split_syllables('мерзостный')) == 'мер-зост-ный'\n",
    "# assert '-'.join(split_syllables('представление'))) == 'пред-став-ле-ни-е' \n",
    "# assert '-'.join(split_syllables('русский'))) == 'русс-кий'\n",
    "# assert '-'.join(split_syllables('попустительствовать'))) == 'по-пу-сти-тельст-во-вать'\n",
    "# assert '-'.join(split_syllables('морская'))) == 'мор-ска-я'"
   ]
  },
  {
   "cell_type": "code",
   "execution_count": 52,
   "metadata": {},
   "outputs": [],
   "source": [
    "def get_stress_pattern(word_stress):\n",
    "    pattern = []\n",
    "    i = len(word_stress) - 1\n",
    "    while i >= 0:\n",
    "        letter = word_stress[i]\n",
    "        if letter in vowels:\n",
    "            pattern.append(\"-\")\n",
    "            i -= 1\n",
    "        elif letter == \"'\":\n",
    "            pattern.append(\"'\")\n",
    "            i -= 2\n",
    "        else:\n",
    "            i -= 1\n",
    "    return ''.join(reversed(pattern))\n",
    "\n",
    "\n",
    "def get_stressed_syllable(word_stress):\n",
    "    stressed_syllable = -1\n",
    "    for letter in reversed(word_stress):\n",
    "        if letter in vowels:\n",
    "            stressed_syllable -= 1\n",
    "        if letter == \"'\":\n",
    "            break\n",
    "    return stressed_syllable\n",
    "\n",
    "\n",
    "def get_tail(word, word_stress):\n",
    "    stressed_syllable = get_stressed_syllable(word_stress)\n",
    "    if stressed_syllable == -1:\n",
    "        syllables = split_syllables(word)\n",
    "        tail = syllables[-1]\n",
    "    else:\n",
    "        parts = word_stress.split(\"'\")\n",
    "        tail = parts[0][-1] + parts[1]\n",
    "        \n",
    "    return tail"
   ]
  },
  {
   "cell_type": "code",
   "execution_count": 53,
   "metadata": {},
   "outputs": [],
   "source": [
    "# https://nlpub.mipt.ru/%D0%A0%D0%B5%D1%81%D1%83%D1%80%D1%81%D1%8B\n",
    "# http://www.speakrus.ru/dict/#paradigma\n",
    "# http://www.speakrus.ru/dict/hagen-morph.rar\n",
    "ddict = []\n",
    "\n",
    "with open('/mnt/c/Users/admin/Downloads/hagen-morph/dict2.txt') as f:\n",
    "    words, properties = [], []\n",
    "    for line in f:\n",
    "        line = [x.strip() for x in line.split('|')]\n",
    "        if len(line) == 1:\n",
    "            continue\n",
    "        word, word_stress = line[0], line[2]\n",
    "\n",
    "        if not re.match('^[А-я]+$', word)\\\n",
    "           or \"'\" not in word_stress:\n",
    "            continue\n",
    "            \n",
    "        stress_pattern = get_stress_pattern(word_stress)\n",
    "        stressed_syllable = stress_pattern.find(\"'\") - len(stress_pattern)\n",
    "        tail = get_tail(word, word_stress)\n",
    "        words.append(word)\n",
    "        properties.append([word_stress, stress_pattern, stressed_syllable, tail])\n",
    "    ddict = dict(zip(words, properties))"
   ]
  },
  {
   "cell_type": "code",
   "execution_count": 363,
   "metadata": {},
   "outputs": [
    {
     "data": {
      "text/plain": [
       "[\"уда'вка\", \"-'-\", -2, 'авка']"
      ]
     },
     "execution_count": 363,
     "metadata": {},
     "output_type": "execute_result"
    }
   ],
   "source": [
    "ddict[\"удавка\"]"
   ]
  },
  {
   "cell_type": "code",
   "execution_count": 364,
   "metadata": {
    "scrolled": true
   },
   "outputs": [
    {
     "data": {
      "text/plain": [
       "['абзу',\n",
       " 'азу',\n",
       " 'бирюзу',\n",
       " 'бузу',\n",
       " 'ввезу',\n",
       " 'везу',\n",
       " 'взвезу',\n",
       " 'внизу',\n",
       " 'возу',\n",
       " 'вползу',\n",
       " 'всползу',\n",
       " 'гарнизу',\n",
       " 'глазу',\n",
       " 'гликозидазу',\n",
       " 'гомозу',\n",
       " 'грозу',\n",
       " 'грызу',\n",
       " 'гюрзу',\n",
       " 'дерезу',\n",
       " 'довезу',\n",
       " 'догрызу',\n",
       " 'доползу',\n",
       " 'егозу',\n",
       " 'завезу',\n",
       " 'загрызу',\n",
       " 'заползу',\n",
       " 'иглофрезу',\n",
       " 'изгрызу',\n",
       " 'каллозу',\n",
       " 'канзу',\n",
       " 'капилляриозу',\n",
       " 'картузу',\n",
       " 'кинзу',\n",
       " 'кирзу',\n",
       " 'кобзу',\n",
       " 'козу',\n",
       " 'ксендзу',\n",
       " 'кузу',\n",
       " 'лозу',\n",
       " 'мирзу',\n",
       " 'мурзу',\n",
       " 'навезу',\n",
       " 'нагрызу',\n",
       " 'надгрызу',\n",
       " 'нанизу',\n",
       " 'наползу',\n",
       " 'недовезу',\n",
       " 'низу',\n",
       " 'обвезу',\n",
       " 'обгрызу',\n",
       " 'обползу',\n",
       " 'огрызу',\n",
       " 'оползу',\n",
       " 'отвезу',\n",
       " 'отгрызу',\n",
       " 'отползу',\n",
       " 'пазу',\n",
       " 'парафиляриозу',\n",
       " 'перевезу',\n",
       " 'перегрызу',\n",
       " 'переползу',\n",
       " 'пирикуляриозу',\n",
       " 'повезу',\n",
       " 'погрызу',\n",
       " 'подвезу',\n",
       " 'подгрызу',\n",
       " 'подползу',\n",
       " 'ползу',\n",
       " 'понавезу',\n",
       " 'понаползу',\n",
       " 'поползу',\n",
       " 'привезу',\n",
       " 'приползу',\n",
       " 'провезу',\n",
       " 'прогрызу',\n",
       " 'проползу',\n",
       " 'развезу',\n",
       " 'разгрызу',\n",
       " 'рогозу',\n",
       " 'сабзу',\n",
       " 'свезу',\n",
       " 'сгрызу',\n",
       " 'сползу',\n",
       " 'стрекозу',\n",
       " 'судзу',\n",
       " 'тазу',\n",
       " 'тузу',\n",
       " 'увезу',\n",
       " 'угрызу',\n",
       " 'узу',\n",
       " 'уползу',\n",
       " 'уразу',\n",
       " 'фанзу',\n",
       " 'филяриозу',\n",
       " 'фрезу',\n",
       " 'харзу',\n",
       " 'хозу',\n",
       " 'электрофрезу',\n",
       " 'язу']"
      ]
     },
     "execution_count": 364,
     "metadata": {},
     "output_type": "execute_result"
    }
   ],
   "source": [
    "def find_rhyme(word):\n",
    "    word_stress, stress_pattern, stressed_syllable, tail = ddict[word]\n",
    "    rhymes = []\n",
    "    for cur_word, properties in ddict.items():\n",
    "        if properties[3] == tail:\n",
    "            rhymes.append(cur_word)\n",
    "    return rhymes\n",
    "find_rhyme(\"азу\")[:100]"
   ]
  },
  {
   "cell_type": "code",
   "execution_count": 423,
   "metadata": {},
   "outputs": [],
   "source": [
    "def fill_pattern(phrase, rhyme_last_syllable=True):\n",
    "    pattern, syllables = \"\", []\n",
    "    for word in phrase.split():\n",
    "        word = word.strip()\n",
    "        pattern += get_stress_pattern(ddict[word][0])\n",
    "        syllables.extend(split_syllables(ddict[word][0]))\n",
    "\n",
    "    unfilled_pattern = pattern\n",
    "    cur_pos = 0\n",
    "    keys = list(ddict.keys())\n",
    "    \n",
    "#     np.random.seed(42)\n",
    "    random_idx = np.random.choice(list(range(len(keys))), size=len(keys), replace=False)\n",
    "    res = []\n",
    "    for i in random_idx:\n",
    "        cur_word = keys[i]\n",
    "        cur_pattern = ddict[cur_word][1]\n",
    "        re_pattern = \"^\" + cur_pattern\n",
    "        cur_word_ok = False\n",
    "        if re.match(re_pattern, unfilled_pattern):\n",
    "            # если текущее слово короче оставшейся строки\n",
    "            # и если не остался один безударный слог\n",
    "            if len(cur_pattern) < len(unfilled_pattern)\\\n",
    "                and re.sub(re_pattern, \"\", unfilled_pattern) != \"-\":\n",
    "                cur_word_ok = True\n",
    "            else:\n",
    "                remnance = \"\".join(syllables)\n",
    "                parts = remnance.split(\"'\")\n",
    "                tail = parts[0][-1] + parts[1]\n",
    "                if ddict[cur_word][3] == tail:\n",
    "                    cur_word_ok = True\n",
    "\n",
    "            if cur_word_ok is True:\n",
    "                res.append(cur_word)\n",
    "                unfilled_pattern = re.sub(re_pattern, \"\", unfilled_pattern)\n",
    "                syllables = syllables[len(cur_pattern):]\n",
    "\n",
    "            if len(unfilled_pattern) == 0:\n",
    "                break\n",
    "    return res"
   ]
  },
  {
   "cell_type": "code",
   "execution_count": 462,
   "metadata": {},
   "outputs": [
    {
     "data": {
      "text/plain": [
       "'андийках филс от'"
      ]
     },
     "execution_count": 462,
     "metadata": {},
     "output_type": "execute_result"
    }
   ],
   "source": [
    "phrase = \"едва открыл рот\"\n",
    "' '.join(fill_pattern(phrase))"
   ]
  },
  {
   "cell_type": "code",
   "execution_count": 463,
   "metadata": {},
   "outputs": [
    {
     "data": {
      "text/plain": [
       "'сдвои иждивенство козлищем пошляйтесь махрово'"
      ]
     },
     "execution_count": 463,
     "metadata": {},
     "output_type": "execute_result"
    }
   ],
   "source": [
    "phrase = \"внезапно оттуда со скрежетом вырвалось слово\"\n",
    "' '.join(fill_pattern(phrase))"
   ]
  },
  {
   "cell_type": "code",
   "execution_count": 454,
   "metadata": {},
   "outputs": [
    {
     "data": {
      "text/plain": [
       "[\"эстэ'тство\", \"-'-\", -2, 'этство']"
      ]
     },
     "execution_count": 454,
     "metadata": {},
     "output_type": "execute_result"
    }
   ],
   "source": [
    "ddict[\"эстетство\"]"
   ]
  },
  {
   "cell_type": "code",
   "execution_count": 54,
   "metadata": {},
   "outputs": [],
   "source": [
    "def get_n_grams_dict(text):\n",
    "    ngrams = defaultdict(list)\n",
    "    for i in range(3, len(text)):\n",
    "        ngrams[(text[i - 3], text[i - 2], text[i - 1])].append(text[i])\n",
    "    \n",
    "    probs = dict()\n",
    "    for ngr in ngrams:\n",
    "        cnt = defaultdict(int)\n",
    "        for word in ngrams[ngr]:\n",
    "            cnt[word] += 1\n",
    "        for word in cnt:\n",
    "            cnt[word] /= len(ngrams[ngr])\n",
    "        probs[ngr] = dict(cnt)\n",
    "\n",
    "    return probs        "
   ]
  },
  {
   "cell_type": "code",
   "execution_count": 55,
   "metadata": {},
   "outputs": [],
   "source": [
    "# http://study.mokoron.com/\n",
    "# https://www.dropbox.com/s/fnpq3z4bcnoktiv/positive.csv?dl=0\n",
    "df = pd.read_csv(\"positive.csv\", sep=';', error_bad_lines=False, header=None)"
   ]
  },
  {
   "cell_type": "code",
   "execution_count": 56,
   "metadata": {},
   "outputs": [],
   "source": [
    "def cut_tweeter_special_stuff(line):\n",
    "    new_line = re.sub('^RT ', '', line)\n",
    "    new_line = re.sub('#.*?( |$)', '', new_line)\n",
    "    new_line = re.sub('@.*?( |$)', '', new_line)\n",
    "    new_line = re.sub('http.*?( |$)', '', new_line)\n",
    "    return new_line\n",
    "df[3] = df[3].map(cut_tweeter_special_stuff)\n",
    "    "
   ]
  },
  {
   "cell_type": "code",
   "execution_count": 57,
   "metadata": {},
   "outputs": [
    {
     "data": {
      "text/html": [
       "<div>\n",
       "<style scoped>\n",
       "    .dataframe tbody tr th:only-of-type {\n",
       "        vertical-align: middle;\n",
       "    }\n",
       "\n",
       "    .dataframe tbody tr th {\n",
       "        vertical-align: top;\n",
       "    }\n",
       "\n",
       "    .dataframe thead th {\n",
       "        text-align: right;\n",
       "    }\n",
       "</style>\n",
       "<table border=\"1\" class=\"dataframe\">\n",
       "  <thead>\n",
       "    <tr style=\"text-align: right;\">\n",
       "      <th></th>\n",
       "      <th>0</th>\n",
       "      <th>1</th>\n",
       "      <th>2</th>\n",
       "      <th>3</th>\n",
       "      <th>4</th>\n",
       "      <th>5</th>\n",
       "      <th>6</th>\n",
       "      <th>7</th>\n",
       "      <th>8</th>\n",
       "      <th>9</th>\n",
       "      <th>10</th>\n",
       "      <th>11</th>\n",
       "    </tr>\n",
       "  </thead>\n",
       "  <tbody>\n",
       "    <tr>\n",
       "      <th>0</th>\n",
       "      <td>408906692374446080</td>\n",
       "      <td>1386325927</td>\n",
       "      <td>pleease_shut_up</td>\n",
       "      <td>хоть я и школота, но поверь, у нас то же самое...</td>\n",
       "      <td>1</td>\n",
       "      <td>0</td>\n",
       "      <td>0</td>\n",
       "      <td>0</td>\n",
       "      <td>7569</td>\n",
       "      <td>62</td>\n",
       "      <td>61</td>\n",
       "      <td>0</td>\n",
       "    </tr>\n",
       "    <tr>\n",
       "      <th>1</th>\n",
       "      <td>408906692693221377</td>\n",
       "      <td>1386325927</td>\n",
       "      <td>alinakirpicheva</td>\n",
       "      <td>Да, все-таки он немного похож на него. Но мой ...</td>\n",
       "      <td>1</td>\n",
       "      <td>0</td>\n",
       "      <td>0</td>\n",
       "      <td>0</td>\n",
       "      <td>11825</td>\n",
       "      <td>59</td>\n",
       "      <td>31</td>\n",
       "      <td>2</td>\n",
       "    </tr>\n",
       "    <tr>\n",
       "      <th>2</th>\n",
       "      <td>408906695083954177</td>\n",
       "      <td>1386325927</td>\n",
       "      <td>EvgeshaRe</td>\n",
       "      <td>Ну ты идиотка) я испугалась за тебя!!!</td>\n",
       "      <td>1</td>\n",
       "      <td>0</td>\n",
       "      <td>1</td>\n",
       "      <td>0</td>\n",
       "      <td>1273</td>\n",
       "      <td>26</td>\n",
       "      <td>27</td>\n",
       "      <td>0</td>\n",
       "    </tr>\n",
       "    <tr>\n",
       "      <th>3</th>\n",
       "      <td>408906695356973056</td>\n",
       "      <td>1386325927</td>\n",
       "      <td>ikonnikova_21</td>\n",
       "      <td>\"Кто то в углу сидит и погибает от голода, а м...</td>\n",
       "      <td>1</td>\n",
       "      <td>0</td>\n",
       "      <td>1</td>\n",
       "      <td>0</td>\n",
       "      <td>1549</td>\n",
       "      <td>19</td>\n",
       "      <td>17</td>\n",
       "      <td>0</td>\n",
       "    </tr>\n",
       "    <tr>\n",
       "      <th>4</th>\n",
       "      <td>408906761416867842</td>\n",
       "      <td>1386325943</td>\n",
       "      <td>JumpyAlex</td>\n",
       "      <td>Вот что значит страшилка :D\\nНо блин,посмотрев...</td>\n",
       "      <td>1</td>\n",
       "      <td>0</td>\n",
       "      <td>0</td>\n",
       "      <td>0</td>\n",
       "      <td>597</td>\n",
       "      <td>16</td>\n",
       "      <td>23</td>\n",
       "      <td>1</td>\n",
       "    </tr>\n",
       "  </tbody>\n",
       "</table>\n",
       "</div>"
      ],
      "text/plain": [
       "                   0           1                2   \\\n",
       "0  408906692374446080  1386325927  pleease_shut_up   \n",
       "1  408906692693221377  1386325927  alinakirpicheva   \n",
       "2  408906695083954177  1386325927        EvgeshaRe   \n",
       "3  408906695356973056  1386325927    ikonnikova_21   \n",
       "4  408906761416867842  1386325943        JumpyAlex   \n",
       "\n",
       "                                                  3   4   5   6   7      8   \\\n",
       "0  хоть я и школота, но поверь, у нас то же самое...   1   0   0   0   7569   \n",
       "1  Да, все-таки он немного похож на него. Но мой ...   1   0   0   0  11825   \n",
       "2             Ну ты идиотка) я испугалась за тебя!!!   1   0   1   0   1273   \n",
       "3  \"Кто то в углу сидит и погибает от голода, а м...   1   0   1   0   1549   \n",
       "4  Вот что значит страшилка :D\\nНо блин,посмотрев...   1   0   0   0    597   \n",
       "\n",
       "   9   10  11  \n",
       "0  62  61   0  \n",
       "1  59  31   2  \n",
       "2  26  27   0  \n",
       "3  19  17   0  \n",
       "4  16  23   1  "
      ]
     },
     "execution_count": 57,
     "metadata": {},
     "output_type": "execute_result"
    }
   ],
   "source": [
    "df.head()"
   ]
  },
  {
   "cell_type": "code",
   "execution_count": 60,
   "metadata": {},
   "outputs": [],
   "source": [
    "text = []\n",
    "for txt in df[3]:\n",
    "    for word in re.findall(\"[\\w-]+|[.,!?-];\", txt):\n",
    "        word = word.lower()\n",
    "        if word in ddict:\n",
    "            text.append(word)"
   ]
  },
  {
   "cell_type": "code",
   "execution_count": 61,
   "metadata": {},
   "outputs": [],
   "source": [
    "probs = get_n_grams_dict(text)"
   ]
  },
  {
   "cell_type": "code",
   "execution_count": 37,
   "metadata": {},
   "outputs": [],
   "source": [
    "def get_next_word(ngram, probs):\n",
    "    p = [(k, v) for k, v in sorted(probs[ngram].items(), key=lambda item: item[1])]\n",
    "    if len(p) > 1 and np.random.rand() > 0.5:\n",
    "        return p[-2][0]\n",
    "    else:\n",
    "        return p[-1][0]"
   ]
  },
  {
   "cell_type": "code",
   "execution_count": 78,
   "metadata": {},
   "outputs": [
    {
     "data": {
      "text/plain": [
       "'легче но чувствую себя плохо по разу пересматриваю фильм пацан малым сегодня работа'"
      ]
     },
     "execution_count": 78,
     "metadata": {},
     "output_type": "execute_result"
    }
   ],
   "source": [
    "rnd_idx = np.random.randint(len(probs))\n",
    "random_text = list(list(probs.keys())[rnd_idx])\n",
    "for i in range(10):\n",
    "    current_ngram = tuple(random_text[-3:])\n",
    "    random_text.append(get_next_word(current_ngram, probs))\n",
    "' '.join(random_text)"
   ]
  }
 ],
 "metadata": {
  "kernelspec": {
   "display_name": "Python 3 - venv",
   "language": "python",
   "name": "python3"
  },
  "language_info": {
   "codemirror_mode": {
    "name": "ipython",
    "version": 3
   },
   "file_extension": ".py",
   "mimetype": "text/x-python",
   "name": "python",
   "nbconvert_exporter": "python",
   "pygments_lexer": "ipython3",
   "version": "3.6.7"
  }
 },
 "nbformat": 4,
 "nbformat_minor": 2
}
